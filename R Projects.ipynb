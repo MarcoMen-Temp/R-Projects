{
 "cells": [
  {
   "cell_type": "code",
   "execution_count": 1,
   "metadata": {},
   "outputs": [],
   "source": [
    "# Library cell\n",
    "\n",
    "library(ggplot2)\n",
    "library(coefplot)"
   ]
  },
  {
   "cell_type": "code",
   "execution_count": 2,
   "metadata": {},
   "outputs": [],
   "source": [
    "x <- 10:1\n",
    "y <- - 4:5\n",
    "q<-c(\"Hockey\", \"Football\", \"Baseball\", \"Curling\", \"Rugby\", \"Lacrosse\", \"Basketball\", \"Tennis\", \"Cricket\", \"Soccer\")"
   ]
  },
  {
   "cell_type": "code",
   "execution_count": 3,
   "metadata": {},
   "outputs": [
    {
     "data": {
      "text/html": [
       "<table>\n",
       "<thead><tr><th scope=col>x</th><th scope=col>y</th><th scope=col>q</th></tr></thead>\n",
       "<tbody>\n",
       "\t<tr><td>10        </td><td>-4        </td><td>Hockey    </td></tr>\n",
       "\t<tr><td> 9        </td><td>-3        </td><td>Football  </td></tr>\n",
       "\t<tr><td> 8        </td><td>-2        </td><td>Baseball  </td></tr>\n",
       "\t<tr><td> 7        </td><td>-1        </td><td>Curling   </td></tr>\n",
       "\t<tr><td> 6        </td><td> 0        </td><td>Rugby     </td></tr>\n",
       "\t<tr><td> 5        </td><td> 1        </td><td>Lacrosse  </td></tr>\n",
       "\t<tr><td> 4        </td><td> 2        </td><td>Basketball</td></tr>\n",
       "\t<tr><td> 3        </td><td> 3        </td><td>Tennis    </td></tr>\n",
       "\t<tr><td> 2        </td><td> 4        </td><td>Cricket   </td></tr>\n",
       "\t<tr><td> 1        </td><td> 5        </td><td>Soccer    </td></tr>\n",
       "</tbody>\n",
       "</table>\n"
      ],
      "text/latex": [
       "\\begin{tabular}{r|lll}\n",
       " x & y & q\\\\\n",
       "\\hline\n",
       "\t 10         & -4         & Hockey    \\\\\n",
       "\t  9         & -3         & Football  \\\\\n",
       "\t  8         & -2         & Baseball  \\\\\n",
       "\t  7         & -1         & Curling   \\\\\n",
       "\t  6         &  0         & Rugby     \\\\\n",
       "\t  5         &  1         & Lacrosse  \\\\\n",
       "\t  4         &  2         & Basketball\\\\\n",
       "\t  3         &  3         & Tennis    \\\\\n",
       "\t  2         &  4         & Cricket   \\\\\n",
       "\t  1         &  5         & Soccer    \\\\\n",
       "\\end{tabular}\n"
      ],
      "text/markdown": [
       "\n",
       "x | y | q | \n",
       "|---|---|---|---|---|---|---|---|---|---|\n",
       "| 10         | -4         | Hockey     | \n",
       "|  9         | -3         | Football   | \n",
       "|  8         | -2         | Baseball   | \n",
       "|  7         | -1         | Curling    | \n",
       "|  6         |  0         | Rugby      | \n",
       "|  5         |  1         | Lacrosse   | \n",
       "|  4         |  2         | Basketball | \n",
       "|  3         |  3         | Tennis     | \n",
       "|  2         |  4         | Cricket    | \n",
       "|  1         |  5         | Soccer     | \n",
       "\n",
       "\n"
      ],
      "text/plain": [
       "   x  y  q         \n",
       "1  10 -4 Hockey    \n",
       "2   9 -3 Football  \n",
       "3   8 -2 Baseball  \n",
       "4   7 -1 Curling   \n",
       "5   6  0 Rugby     \n",
       "6   5  1 Lacrosse  \n",
       "7   4  2 Basketball\n",
       "8   3  3 Tennis    \n",
       "9   2  4 Cricket   \n",
       "10  1  5 Soccer    "
      ]
     },
     "metadata": {},
     "output_type": "display_data"
    }
   ],
   "source": [
    "DF <- data.frame(x,y,q)\n",
    "DF"
   ]
  },
  {
   "cell_type": "code",
   "execution_count": 4,
   "metadata": {},
   "outputs": [
    {
     "data": {
      "text/html": [
       "<table>\n",
       "<thead><tr><th scope=col>Round</th><th scope=col>Tomato</th><th scope=col>Price</th><th scope=col>Source</th><th scope=col>Sweet</th><th scope=col>Acid</th><th scope=col>Color</th><th scope=col>Texture</th><th scope=col>Overall</th><th scope=col>Avg.of.Totals</th><th scope=col>Total.of.Avg</th></tr></thead>\n",
       "<tbody>\n",
       "\t<tr><td>1                 </td><td>Simpson SM        </td><td>3.99              </td><td>Whole Foods       </td><td>2.8               </td><td>2.8               </td><td>3.7               </td><td>3.4               </td><td>3.4               </td><td>16.1              </td><td>16.1              </td></tr>\n",
       "\t<tr><td>1                 </td><td>Tuttorosso (blue) </td><td>2.99              </td><td>Pioneer           </td><td>3.3               </td><td>2.8               </td><td>3.4               </td><td>3.0               </td><td>2.9               </td><td>15.3              </td><td>15.3              </td></tr>\n",
       "\t<tr><td>1                 </td><td>Tuttorosso (green)</td><td>0.99              </td><td>Pioneer           </td><td>2.8               </td><td>2.6               </td><td>3.3               </td><td>2.8               </td><td>2.9               </td><td>14.3              </td><td>14.3              </td></tr>\n",
       "\t<tr><td>1                 </td><td>La Fede SM DOP    </td><td>3.99              </td><td>Shop Rite         </td><td>2.6               </td><td>2.8               </td><td>3.0               </td><td>2.3               </td><td>2.8               </td><td>13.4              </td><td>13.4              </td></tr>\n",
       "\t<tr><td>2                 </td><td>Cento SM DOP      </td><td>5.49              </td><td>D Agostino        </td><td>3.3               </td><td>3.1               </td><td>2.9               </td><td>2.8               </td><td>3.1               </td><td>14.4              </td><td>15.2              </td></tr>\n",
       "\t<tr><td>2                 </td><td>Cento Organic     </td><td>4.99              </td><td>D Agostino        </td><td>3.2               </td><td>2.9               </td><td>2.9               </td><td>3.1               </td><td>2.9               </td><td>15.5              </td><td>15.1              </td></tr>\n",
       "</tbody>\n",
       "</table>\n"
      ],
      "text/latex": [
       "\\begin{tabular}{r|lllllllllll}\n",
       " Round & Tomato & Price & Source & Sweet & Acid & Color & Texture & Overall & Avg.of.Totals & Total.of.Avg\\\\\n",
       "\\hline\n",
       "\t 1                  & Simpson SM         & 3.99               & Whole Foods        & 2.8                & 2.8                & 3.7                & 3.4                & 3.4                & 16.1               & 16.1              \\\\\n",
       "\t 1                  & Tuttorosso (blue)  & 2.99               & Pioneer            & 3.3                & 2.8                & 3.4                & 3.0                & 2.9                & 15.3               & 15.3              \\\\\n",
       "\t 1                  & Tuttorosso (green) & 0.99               & Pioneer            & 2.8                & 2.6                & 3.3                & 2.8                & 2.9                & 14.3               & 14.3              \\\\\n",
       "\t 1                  & La Fede SM DOP     & 3.99               & Shop Rite          & 2.6                & 2.8                & 3.0                & 2.3                & 2.8                & 13.4               & 13.4              \\\\\n",
       "\t 2                  & Cento SM DOP       & 5.49               & D Agostino         & 3.3                & 3.1                & 2.9                & 2.8                & 3.1                & 14.4               & 15.2              \\\\\n",
       "\t 2                  & Cento Organic      & 4.99               & D Agostino         & 3.2                & 2.9                & 2.9                & 3.1                & 2.9                & 15.5               & 15.1              \\\\\n",
       "\\end{tabular}\n"
      ],
      "text/markdown": [
       "\n",
       "Round | Tomato | Price | Source | Sweet | Acid | Color | Texture | Overall | Avg.of.Totals | Total.of.Avg | \n",
       "|---|---|---|---|---|---|\n",
       "| 1                  | Simpson SM         | 3.99               | Whole Foods        | 2.8                | 2.8                | 3.7                | 3.4                | 3.4                | 16.1               | 16.1               | \n",
       "| 1                  | Tuttorosso (blue)  | 2.99               | Pioneer            | 3.3                | 2.8                | 3.4                | 3.0                | 2.9                | 15.3               | 15.3               | \n",
       "| 1                  | Tuttorosso (green) | 0.99               | Pioneer            | 2.8                | 2.6                | 3.3                | 2.8                | 2.9                | 14.3               | 14.3               | \n",
       "| 1                  | La Fede SM DOP     | 3.99               | Shop Rite          | 2.6                | 2.8                | 3.0                | 2.3                | 2.8                | 13.4               | 13.4               | \n",
       "| 2                  | Cento SM DOP       | 5.49               | D Agostino         | 3.3                | 3.1                | 2.9                | 2.8                | 3.1                | 14.4               | 15.2               | \n",
       "| 2                  | Cento Organic      | 4.99               | D Agostino         | 3.2                | 2.9                | 2.9                | 3.1                | 2.9                | 15.5               | 15.1               | \n",
       "\n",
       "\n"
      ],
      "text/plain": [
       "  Round Tomato             Price Source      Sweet Acid Color Texture Overall\n",
       "1 1     Simpson SM         3.99  Whole Foods 2.8   2.8  3.7   3.4     3.4    \n",
       "2 1     Tuttorosso (blue)  2.99  Pioneer     3.3   2.8  3.4   3.0     2.9    \n",
       "3 1     Tuttorosso (green) 0.99  Pioneer     2.8   2.6  3.3   2.8     2.9    \n",
       "4 1     La Fede SM DOP     3.99  Shop Rite   2.6   2.8  3.0   2.3     2.8    \n",
       "5 2     Cento SM DOP       5.49  D Agostino  3.3   3.1  2.9   2.8     3.1    \n",
       "6 2     Cento Organic      4.99  D Agostino  3.2   2.9  2.9   3.1     2.9    \n",
       "  Avg.of.Totals Total.of.Avg\n",
       "1 16.1          16.1        \n",
       "2 15.3          15.3        \n",
       "3 14.3          14.3        \n",
       "4 13.4          13.4        \n",
       "5 14.4          15.2        \n",
       "6 15.5          15.1        "
      ]
     },
     "metadata": {},
     "output_type": "display_data"
    }
   ],
   "source": [
    "theURL <- \"http://www.jaredlander.com/data/TomatoFirst.csv\"\n",
    "tomato <- read.table(file=theURL, header=TRUE, sep=\",\")\n",
    "\n",
    "head(tomato)"
   ]
  },
  {
   "cell_type": "code",
   "execution_count": 5,
   "metadata": {},
   "outputs": [
    {
     "data": {
      "text/html": [
       "<table>\n",
       "<thead><tr><th scope=col>carat</th><th scope=col>cut</th><th scope=col>color</th><th scope=col>clarity</th><th scope=col>depth</th><th scope=col>table</th><th scope=col>price</th><th scope=col>x</th><th scope=col>y</th><th scope=col>z</th></tr></thead>\n",
       "<tbody>\n",
       "\t<tr><td>0.23     </td><td>Ideal    </td><td>E        </td><td>SI2      </td><td>61.5     </td><td>55       </td><td>326      </td><td>3.95     </td><td>3.98     </td><td>2.43     </td></tr>\n",
       "\t<tr><td>0.21     </td><td>Premium  </td><td>E        </td><td>SI1      </td><td>59.8     </td><td>61       </td><td>326      </td><td>3.89     </td><td>3.84     </td><td>2.31     </td></tr>\n",
       "\t<tr><td>0.23     </td><td>Good     </td><td>E        </td><td>VS1      </td><td>56.9     </td><td>65       </td><td>327      </td><td>4.05     </td><td>4.07     </td><td>2.31     </td></tr>\n",
       "\t<tr><td>0.29     </td><td>Premium  </td><td>I        </td><td>VS2      </td><td>62.4     </td><td>58       </td><td>334      </td><td>4.20     </td><td>4.23     </td><td>2.63     </td></tr>\n",
       "\t<tr><td>0.31     </td><td>Good     </td><td>J        </td><td>SI2      </td><td>63.3     </td><td>58       </td><td>335      </td><td>4.34     </td><td>4.35     </td><td>2.75     </td></tr>\n",
       "\t<tr><td>0.24     </td><td>Very Good</td><td>J        </td><td>VVS2     </td><td>62.8     </td><td>57       </td><td>336      </td><td>3.94     </td><td>3.96     </td><td>2.48     </td></tr>\n",
       "</tbody>\n",
       "</table>\n"
      ],
      "text/latex": [
       "\\begin{tabular}{r|llllllllll}\n",
       " carat & cut & color & clarity & depth & table & price & x & y & z\\\\\n",
       "\\hline\n",
       "\t 0.23      & Ideal     & E         & SI2       & 61.5      & 55        & 326       & 3.95      & 3.98      & 2.43     \\\\\n",
       "\t 0.21      & Premium   & E         & SI1       & 59.8      & 61        & 326       & 3.89      & 3.84      & 2.31     \\\\\n",
       "\t 0.23      & Good      & E         & VS1       & 56.9      & 65        & 327       & 4.05      & 4.07      & 2.31     \\\\\n",
       "\t 0.29      & Premium   & I         & VS2       & 62.4      & 58        & 334       & 4.20      & 4.23      & 2.63     \\\\\n",
       "\t 0.31      & Good      & J         & SI2       & 63.3      & 58        & 335       & 4.34      & 4.35      & 2.75     \\\\\n",
       "\t 0.24      & Very Good & J         & VVS2      & 62.8      & 57        & 336       & 3.94      & 3.96      & 2.48     \\\\\n",
       "\\end{tabular}\n"
      ],
      "text/markdown": [
       "\n",
       "carat | cut | color | clarity | depth | table | price | x | y | z | \n",
       "|---|---|---|---|---|---|\n",
       "| 0.23      | Ideal     | E         | SI2       | 61.5      | 55        | 326       | 3.95      | 3.98      | 2.43      | \n",
       "| 0.21      | Premium   | E         | SI1       | 59.8      | 61        | 326       | 3.89      | 3.84      | 2.31      | \n",
       "| 0.23      | Good      | E         | VS1       | 56.9      | 65        | 327       | 4.05      | 4.07      | 2.31      | \n",
       "| 0.29      | Premium   | I         | VS2       | 62.4      | 58        | 334       | 4.20      | 4.23      | 2.63      | \n",
       "| 0.31      | Good      | J         | SI2       | 63.3      | 58        | 335       | 4.34      | 4.35      | 2.75      | \n",
       "| 0.24      | Very Good | J         | VVS2      | 62.8      | 57        | 336       | 3.94      | 3.96      | 2.48      | \n",
       "\n",
       "\n"
      ],
      "text/plain": [
       "  carat cut       color clarity depth table price x    y    z   \n",
       "1 0.23  Ideal     E     SI2     61.5  55    326   3.95 3.98 2.43\n",
       "2 0.21  Premium   E     SI1     59.8  61    326   3.89 3.84 2.31\n",
       "3 0.23  Good      E     VS1     56.9  65    327   4.05 4.07 2.31\n",
       "4 0.29  Premium   I     VS2     62.4  58    334   4.20 4.23 2.63\n",
       "5 0.31  Good      J     SI2     63.3  58    335   4.34 4.35 2.75\n",
       "6 0.24  Very Good J     VVS2    62.8  57    336   3.94 3.96 2.48"
      ]
     },
     "metadata": {},
     "output_type": "display_data"
    }
   ],
   "source": [
    "data(diamonds, package='ggplot2')\n",
    "head(diamonds)"
   ]
  },
  {
   "cell_type": "code",
   "execution_count": 6,
   "metadata": {},
   "outputs": [
    {
     "data": {
      "text/html": [
       "<table>\n",
       "<thead><tr><th scope=col>V1</th><th scope=col>V2</th><th scope=col>V3</th></tr></thead>\n",
       "<tbody>\n",
       "\t<tr><td>Participant 1 </td><td>Giant A       </td><td>Patriot Q     </td></tr>\n",
       "\t<tr><td>Participant 2 </td><td>Giant B       </td><td>Patriot R     </td></tr>\n",
       "\t<tr><td>Participant 3 </td><td>Giant C       </td><td>Patriot S     </td></tr>\n",
       "\t<tr><td>Participant 4 </td><td>Giant D       </td><td>Patriot T     </td></tr>\n",
       "\t<tr><td>Participant 5 </td><td>Giant E       </td><td>Patriot U     </td></tr>\n",
       "\t<tr><td>Participant 6 </td><td>Giant F       </td><td>Patriot V     </td></tr>\n",
       "\t<tr><td>Participant 7 </td><td>Giant G       </td><td>Patriot W     </td></tr>\n",
       "\t<tr><td>Participant 8 </td><td>Giant H       </td><td>Patriot X     </td></tr>\n",
       "\t<tr><td>Participant 9 </td><td>Giant I       </td><td>Patriot Y     </td></tr>\n",
       "\t<tr><td>Participant 10</td><td>Giant J       </td><td>Patriot Z     </td></tr>\n",
       "</tbody>\n",
       "</table>\n"
      ],
      "text/latex": [
       "\\begin{tabular}{r|lll}\n",
       " V1 & V2 & V3\\\\\n",
       "\\hline\n",
       "\t Participant 1  & Giant A        & Patriot Q     \\\\\n",
       "\t Participant 2  & Giant B        & Patriot R     \\\\\n",
       "\t Participant 3  & Giant C        & Patriot S     \\\\\n",
       "\t Participant 4  & Giant D        & Patriot T     \\\\\n",
       "\t Participant 5  & Giant E        & Patriot U     \\\\\n",
       "\t Participant 6  & Giant F        & Patriot V     \\\\\n",
       "\t Participant 7  & Giant G        & Patriot W     \\\\\n",
       "\t Participant 8  & Giant H        & Patriot X     \\\\\n",
       "\t Participant 9  & Giant I        & Patriot Y     \\\\\n",
       "\t Participant 10 & Giant J        & Patriot Z     \\\\\n",
       "\\end{tabular}\n"
      ],
      "text/markdown": [
       "\n",
       "V1 | V2 | V3 | \n",
       "|---|---|---|---|---|---|---|---|---|---|\n",
       "| Participant 1  | Giant A        | Patriot Q      | \n",
       "| Participant 2  | Giant B        | Patriot R      | \n",
       "| Participant 3  | Giant C        | Patriot S      | \n",
       "| Participant 4  | Giant D        | Patriot T      | \n",
       "| Participant 5  | Giant E        | Patriot U      | \n",
       "| Participant 6  | Giant F        | Patriot V      | \n",
       "| Participant 7  | Giant G        | Patriot W      | \n",
       "| Participant 8  | Giant H        | Patriot X      | \n",
       "| Participant 9  | Giant I        | Patriot Y      | \n",
       "| Participant 10 | Giant J        | Patriot Z      | \n",
       "\n",
       "\n"
      ],
      "text/plain": [
       "   V1             V2      V3       \n",
       "1  Participant 1  Giant A Patriot Q\n",
       "2  Participant 2  Giant B Patriot R\n",
       "3  Participant 3  Giant C Patriot S\n",
       "4  Participant 4  Giant D Patriot T\n",
       "5  Participant 5  Giant E Patriot U\n",
       "6  Participant 6  Giant F Patriot V\n",
       "7  Participant 7  Giant G Patriot W\n",
       "8  Participant 8  Giant H Patriot X\n",
       "9  Participant 9  Giant I Patriot Y\n",
       "10 Participant 10 Giant J Patriot Z"
      ]
     },
     "metadata": {},
     "output_type": "display_data"
    }
   ],
   "source": [
    "# Page 159\n",
    "\n",
    "library(XML)\n",
    "library(httr)\n",
    "\n",
    "URL <- 'http://www.jaredlander.com/2012/02/another-kind-of-super-bowl-pool/'\n",
    "\n",
    "bowlPool <- readHTMLTable(rawToChar(GET(URL)$content), which=1, header= FALSE,stringsAsFactors=FALSE)\n",
    "\n",
    "bowlPool"
   ]
  },
  {
   "cell_type": "code",
   "execution_count": 7,
   "metadata": {},
   "outputs": [
    {
     "name": "stderr",
     "output_type": "stream",
     "text": [
      "Loading required package: xml2\n",
      "\n",
      "Attaching package: 'rvest'\n",
      "\n",
      "The following object is masked from 'package:XML':\n",
      "\n",
      "    xml\n",
      "\n"
     ]
    },
    {
     "data": {
      "text/html": [
       "<ol class=list-inline>\n",
       "\t<li>'xml_document'</li>\n",
       "\t<li>'xml_node'</li>\n",
       "</ol>\n"
      ],
      "text/latex": [
       "\\begin{enumerate*}\n",
       "\\item 'xml\\_document'\n",
       "\\item 'xml\\_node'\n",
       "\\end{enumerate*}\n"
      ],
      "text/markdown": [
       "1. 'xml_document'\n",
       "2. 'xml_node'\n",
       "\n",
       "\n"
      ],
      "text/plain": [
       "[1] \"xml_document\" \"xml_node\"    "
      ]
     },
     "metadata": {},
     "output_type": "display_data"
    },
    {
     "data": {
      "text/plain": [
       "{xml_document}\n",
       "<html xmlns=\"http://www.w3.org/1999/xhtml\">\n",
       "[1] <head>\\n<meta http-equiv=\"Content-Type\" content=\"text/html; charset=UTF-8 ...\n",
       "[2] <body>\\r\\n<ul>\\n<li class=\"address\">\\r\\n    <span class=\"street\">48 E 12t ..."
      ]
     },
     "metadata": {},
     "output_type": "display_data"
    }
   ],
   "source": [
    "library(rvest)\n",
    "library(xml2)\n",
    "\n",
    "ribalta <- read_html('http://jaredlander.com/data/ribalta.html')\n",
    "class(ribalta)\n",
    "\n",
    "ribalta"
   ]
  },
  {
   "cell_type": "code",
   "execution_count": 8,
   "metadata": {},
   "outputs": [
    {
     "data": {
      "text/plain": [
       "{xml_nodeset (6)}\n",
       "[1] <span class=\"street\">48 E 12th St</span>\n",
       "[2] <span class=\"city\">New York</span>\n",
       "[3] <span class=\"zip\">10003</span>\n",
       "[4] <span>\\r\\n    \\t<span id=\"latitude\" value=\"40.733384\"></span>\\r\\n    \\t<s ...\n",
       "[5] <span id=\"latitude\" value=\"40.733384\"></span>\n",
       "[6] <span id=\"longitude\" value=\"-73.9915618\"></span>"
      ]
     },
     "metadata": {},
     "output_type": "display_data"
    }
   ],
   "source": [
    "ribalta %>% html_nodes('ul') %>% html_nodes('span')"
   ]
  },
  {
   "cell_type": "code",
   "execution_count": 9,
   "metadata": {},
   "outputs": [
    {
     "data": {
      "text/plain": [
       "{xml_nodeset (1)}\n",
       "[1] <span class=\"street\">48 E 12th St</span>"
      ]
     },
     "metadata": {},
     "output_type": "display_data"
    }
   ],
   "source": [
    "ribalta %>% html_nodes('.street')"
   ]
  },
  {
   "cell_type": "code",
   "execution_count": 10,
   "metadata": {},
   "outputs": [
    {
     "data": {
      "text/html": [
       "'48 E 12th St'"
      ],
      "text/latex": [
       "'48 E 12th St'"
      ],
      "text/markdown": [
       "'48 E 12th St'"
      ],
      "text/plain": [
       "[1] \"48 E 12th St\""
      ]
     },
     "metadata": {},
     "output_type": "display_data"
    }
   ],
   "source": [
    "ribalta %>% html_nodes('.street') %>% html_text()"
   ]
  },
  {
   "cell_type": "code",
   "execution_count": 11,
   "metadata": {},
   "outputs": [
    {
     "data": {
      "text/html": [
       "'-73.9915618'"
      ],
      "text/latex": [
       "'-73.9915618'"
      ],
      "text/markdown": [
       "'-73.9915618'"
      ],
      "text/plain": [
       "[1] \"-73.9915618\""
      ]
     },
     "metadata": {},
     "output_type": "display_data"
    }
   ],
   "source": [
    "ribalta %>% html_nodes('#longitude') %>% html_attr('value')"
   ]
  },
  {
   "cell_type": "code",
   "execution_count": 12,
   "metadata": {},
   "outputs": [
    {
     "data": {
      "text/html": [
       "<table>\n",
       "<thead><tr><th scope=col>X1</th><th scope=col>X2</th><th scope=col>X3</th></tr></thead>\n",
       "<tbody>\n",
       "\t<tr><td>Marinara Pizza Rosse                                          </td><td>basil, garlic and oregano.                                    </td><td> 9                                                            </td></tr>\n",
       "\t<tr><td>Doc Pizza Rosse                                               </td><td>buffalo mozzarella and basil.                                 </td><td>15                                                            </td></tr>\n",
       "\t<tr><td>Vegetariana Pizza Rosse                                       </td><td>mozzarella cheese, basil and baked vegetables.                </td><td>15                                                            </td></tr>\n",
       "\t<tr><td>Brigante Pizza Rosse                                          </td><td>mozzarella cheese, salami and spicy oil.                      </td><td>15                                                            </td></tr>\n",
       "\t<tr><td>Calzone Pizza Rosse                                           </td><td>ricotta, mozzarella cheese, prosciutto cotto and black pepper.</td><td>16                                                            </td></tr>\n",
       "\t<tr><td>Americana Pizza Rosse                                         </td><td>mozzarella cheese, wurstel and fries.                         </td><td>16                                                            </td></tr>\n",
       "</tbody>\n",
       "</table>\n"
      ],
      "text/latex": [
       "\\begin{tabular}{r|lll}\n",
       " X1 & X2 & X3\\\\\n",
       "\\hline\n",
       "\t Marinara Pizza Rosse                                           & basil, garlic and oregano.                                     &  9                                                            \\\\\n",
       "\t Doc Pizza Rosse                                                & buffalo mozzarella and basil.                                  & 15                                                            \\\\\n",
       "\t Vegetariana Pizza Rosse                                        & mozzarella cheese, basil and baked vegetables.                 & 15                                                            \\\\\n",
       "\t Brigante Pizza Rosse                                           & mozzarella cheese, salami and spicy oil.                       & 15                                                            \\\\\n",
       "\t Calzone Pizza Rosse                                            & ricotta, mozzarella cheese, prosciutto cotto and black pepper. & 16                                                            \\\\\n",
       "\t Americana Pizza Rosse                                          & mozzarella cheese, wurstel and fries.                          & 16                                                            \\\\\n",
       "\\end{tabular}\n"
      ],
      "text/markdown": [
       "\n",
       "X1 | X2 | X3 | \n",
       "|---|---|---|---|---|---|\n",
       "| Marinara Pizza Rosse                                           | basil, garlic and oregano.                                     |  9                                                             | \n",
       "| Doc Pizza Rosse                                                | buffalo mozzarella and basil.                                  | 15                                                             | \n",
       "| Vegetariana Pizza Rosse                                        | mozzarella cheese, basil and baked vegetables.                 | 15                                                             | \n",
       "| Brigante Pizza Rosse                                           | mozzarella cheese, salami and spicy oil.                       | 15                                                             | \n",
       "| Calzone Pizza Rosse                                            | ricotta, mozzarella cheese, prosciutto cotto and black pepper. | 16                                                             | \n",
       "| Americana Pizza Rosse                                          | mozzarella cheese, wurstel and fries.                          | 16                                                             | \n",
       "\n",
       "\n"
      ],
      "text/plain": [
       "  X1                     \n",
       "1 Marinara Pizza Rosse   \n",
       "2 Doc Pizza Rosse        \n",
       "3 Vegetariana Pizza Rosse\n",
       "4 Brigante Pizza Rosse   \n",
       "5 Calzone Pizza Rosse    \n",
       "6 Americana Pizza Rosse  \n",
       "  X2                                                             X3\n",
       "1 basil, garlic and oregano.                                      9\n",
       "2 buffalo mozzarella and basil.                                  15\n",
       "3 mozzarella cheese, basil and baked vegetables.                 15\n",
       "4 mozzarella cheese, salami and spicy oil.                       15\n",
       "5 ricotta, mozzarella cheese, prosciutto cotto and black pepper. 16\n",
       "6 mozzarella cheese, wurstel and fries.                          16"
      ]
     },
     "metadata": {},
     "output_type": "display_data"
    }
   ],
   "source": [
    "ribalta %>% html_nodes('table.food-items') %>% magrittr::extract2(5) %>% html_table()"
   ]
  },
  {
   "cell_type": "code",
   "execution_count": 13,
   "metadata": {},
   "outputs": [
    {
     "data": {
      "text/html": [
       "<table>\n",
       "<thead><tr><th scope=col>Name</th><th scope=col>Details</th></tr></thead>\n",
       "<tbody>\n",
       "\t<tr><td>Di Fara Pizza                                             </td><td>1424 Avenue J, Brooklyn     , NY           , 11230        </td></tr>\n",
       "\t<tr><td>Fiore's Pizza                                                     </td><td>165 Bleecker St, New York       , NY             , 10012          </td></tr>\n",
       "\t<tr><td>Juliana's                                                             </td><td>19 Old Fulton St, Brooklyn        , NY              , 11201           </td></tr>\n",
       "\t<tr><td><span style=white-space:pre-wrap>Keste Pizza &amp; Vino    </span>                                        </td><td><span style=white-space:pre-wrap>271 Bleecker St, New York       , NY             , 10014          </span></td></tr>\n",
       "\t<tr><td>L &amp; B Spumoni Gardens                                                                     </td><td><span style=white-space:pre-wrap>2725 86th St, Brooklyn    , NY          , 11223       </span></td></tr>\n",
       "\t<tr><td>New York Pizza Suprema                            </td><td>413 8th Ave, New York   , NY         , 10001      </td></tr>\n",
       "\t<tr><td>Paulie Gee's                                                              </td><td>60 Greenpoint Ave, Brooklyn         , NY               , 11222            </td></tr>\n",
       "\t<tr><td>Ribalta                                               </td><td>48 E 12th St, New York    , NY          , 10003       </td></tr>\n",
       "\t<tr><td>Totonno's                                                             </td><td>1524 Neptune Ave, Brooklyn        , NY              , 11224           </td></tr>\n",
       "</tbody>\n",
       "</table>\n"
      ],
      "text/latex": [
       "\\begin{tabular}{r|ll}\n",
       " Name & Details\\\\\n",
       "\\hline\n",
       "\t Di Fara Pizza                                              & 1424 Avenue J, Brooklyn     , NY           , 11230        \\\\\n",
       "\t Fiore's Pizza                                                      & 165 Bleecker St, New York       , NY             , 10012          \\\\\n",
       "\t Juliana's                                                              & 19 Old Fulton St, Brooklyn        , NY              , 11201           \\\\\n",
       "\t Keste Pizza \\& Vino                                               & 271 Bleecker St, New York       , NY             , 10014          \\\\\n",
       "\t L \\& B Spumoni Gardens                                & 2725 86th St, Brooklyn    , NY          , 11223       \\\\\n",
       "\t New York Pizza Suprema                             & 413 8th Ave, New York   , NY         , 10001      \\\\\n",
       "\t Paulie Gee's                                                               & 60 Greenpoint Ave, Brooklyn         , NY               , 11222            \\\\\n",
       "\t Ribalta                                                & 48 E 12th St, New York    , NY          , 10003       \\\\\n",
       "\t Totonno's                                                              & 1524 Neptune Ave, Brooklyn        , NY              , 11224           \\\\\n",
       "\\end{tabular}\n"
      ],
      "text/markdown": [
       "\n",
       "Name | Details | \n",
       "|---|---|---|---|---|---|---|---|---|\n",
       "| Di Fara Pizza                                              | 1424 Avenue J, Brooklyn     , NY           , 11230         | \n",
       "| Fiore's Pizza                                                      | 165 Bleecker St, New York       , NY             , 10012           | \n",
       "| Juliana's                                                              | 19 Old Fulton St, Brooklyn        , NY              , 11201            | \n",
       "| Keste Pizza & Vino                                                 | 271 Bleecker St, New York       , NY             , 10014           | \n",
       "| L & B Spumoni Gardens                                  | 2725 86th St, Brooklyn    , NY          , 11223        | \n",
       "| New York Pizza Suprema                             | 413 8th Ave, New York   , NY         , 10001       | \n",
       "| Paulie Gee's                                                               | 60 Greenpoint Ave, Brooklyn         , NY               , 11222             | \n",
       "| Ribalta                                                | 48 E 12th St, New York    , NY          , 10003        | \n",
       "| Totonno's                                                              | 1524 Neptune Ave, Brooklyn        , NY              , 11224            | \n",
       "\n",
       "\n"
      ],
      "text/plain": [
       "  Name                  \n",
       "1 Di Fara Pizza         \n",
       "2 Fiore's Pizza         \n",
       "3 Juliana's             \n",
       "4 Keste Pizza & Vino    \n",
       "5 L & B Spumoni Gardens \n",
       "6 New York Pizza Suprema\n",
       "7 Paulie Gee's          \n",
       "8 Ribalta               \n",
       "9 Totonno's             \n",
       "  Details                                                                   \n",
       "1 1424 Avenue J, Brooklyn     , NY           , 11230                        \n",
       "2 165 Bleecker St, New York       , NY             , 10012                  \n",
       "3 19 Old Fulton St, Brooklyn        , NY              , 11201               \n",
       "4 271 Bleecker St, New York       , NY             , 10014                  \n",
       "5 2725 86th St, Brooklyn    , NY          , 11223                           \n",
       "6 413 8th Ave, New York   , NY         , 10001                              \n",
       "7 60 Greenpoint Ave, Brooklyn         , NY               , 11222            \n",
       "8 48 E 12th St, New York    , NY          , 10003                           \n",
       "9 1524 Neptune Ave, Brooklyn        , NY              , 11224               "
      ]
     },
     "metadata": {},
     "output_type": "display_data"
    }
   ],
   "source": [
    "library(jsonlite)\n",
    "\n",
    "pizza <- fromJSON('http://www.jaredlander.com/data/PizzaFavorites.json')\n",
    "\n",
    "pizza"
   ]
  },
  {
   "cell_type": "code",
   "execution_count": 14,
   "metadata": {},
   "outputs": [
    {
     "data": {
      "text/html": [
       "'data.frame'"
      ],
      "text/latex": [
       "'data.frame'"
      ],
      "text/markdown": [
       "'data.frame'"
      ],
      "text/plain": [
       "[1] \"data.frame\""
      ]
     },
     "metadata": {},
     "output_type": "display_data"
    }
   ],
   "source": [
    "class(pizza)"
   ]
  },
  {
   "cell_type": "code",
   "execution_count": 15,
   "metadata": {},
   "outputs": [
    {
     "data": {
      "text/html": [
       "'character'"
      ],
      "text/latex": [
       "'character'"
      ],
      "text/markdown": [
       "'character'"
      ],
      "text/plain": [
       "[1] \"character\""
      ]
     },
     "metadata": {},
     "output_type": "display_data"
    }
   ],
   "source": [
    "class(pizza$Name)"
   ]
  },
  {
   "cell_type": "code",
   "execution_count": 16,
   "metadata": {},
   "outputs": [
    {
     "data": {
      "text/html": [
       "'list'"
      ],
      "text/latex": [
       "'list'"
      ],
      "text/markdown": [
       "'list'"
      ],
      "text/plain": [
       "[1] \"list\""
      ]
     },
     "metadata": {},
     "output_type": "display_data"
    }
   ],
   "source": [
    "class(pizza$Details)"
   ]
  },
  {
   "cell_type": "code",
   "execution_count": 17,
   "metadata": {},
   "outputs": [
    {
     "data": {
      "text/html": [
       "'data.frame'"
      ],
      "text/latex": [
       "'data.frame'"
      ],
      "text/markdown": [
       "'data.frame'"
      ],
      "text/plain": [
       "[1] \"data.frame\""
      ]
     },
     "metadata": {},
     "output_type": "display_data"
    }
   ],
   "source": [
    "class(pizza$Details[[1]])"
   ]
  },
  {
   "cell_type": "markdown",
   "metadata": {},
   "source": [
    "# Statistical Graphics\n",
    "\n",
    "I will be using 'Diamonds' data from 'ggplot2' package"
   ]
  },
  {
   "cell_type": "code",
   "execution_count": 18,
   "metadata": {},
   "outputs": [
    {
     "data": {
      "text/html": [
       "<table>\n",
       "<thead><tr><th scope=col>carat</th><th scope=col>cut</th><th scope=col>color</th><th scope=col>clarity</th><th scope=col>depth</th><th scope=col>table</th><th scope=col>price</th><th scope=col>x</th><th scope=col>y</th><th scope=col>z</th></tr></thead>\n",
       "<tbody>\n",
       "\t<tr><td>0.23     </td><td>Ideal    </td><td>E        </td><td>SI2      </td><td>61.5     </td><td>55       </td><td>326      </td><td>3.95     </td><td>3.98     </td><td>2.43     </td></tr>\n",
       "\t<tr><td>0.21     </td><td>Premium  </td><td>E        </td><td>SI1      </td><td>59.8     </td><td>61       </td><td>326      </td><td>3.89     </td><td>3.84     </td><td>2.31     </td></tr>\n",
       "\t<tr><td>0.23     </td><td>Good     </td><td>E        </td><td>VS1      </td><td>56.9     </td><td>65       </td><td>327      </td><td>4.05     </td><td>4.07     </td><td>2.31     </td></tr>\n",
       "\t<tr><td>0.29     </td><td>Premium  </td><td>I        </td><td>VS2      </td><td>62.4     </td><td>58       </td><td>334      </td><td>4.20     </td><td>4.23     </td><td>2.63     </td></tr>\n",
       "\t<tr><td>0.31     </td><td>Good     </td><td>J        </td><td>SI2      </td><td>63.3     </td><td>58       </td><td>335      </td><td>4.34     </td><td>4.35     </td><td>2.75     </td></tr>\n",
       "\t<tr><td>0.24     </td><td>Very Good</td><td>J        </td><td>VVS2     </td><td>62.8     </td><td>57       </td><td>336      </td><td>3.94     </td><td>3.96     </td><td>2.48     </td></tr>\n",
       "</tbody>\n",
       "</table>\n"
      ],
      "text/latex": [
       "\\begin{tabular}{r|llllllllll}\n",
       " carat & cut & color & clarity & depth & table & price & x & y & z\\\\\n",
       "\\hline\n",
       "\t 0.23      & Ideal     & E         & SI2       & 61.5      & 55        & 326       & 3.95      & 3.98      & 2.43     \\\\\n",
       "\t 0.21      & Premium   & E         & SI1       & 59.8      & 61        & 326       & 3.89      & 3.84      & 2.31     \\\\\n",
       "\t 0.23      & Good      & E         & VS1       & 56.9      & 65        & 327       & 4.05      & 4.07      & 2.31     \\\\\n",
       "\t 0.29      & Premium   & I         & VS2       & 62.4      & 58        & 334       & 4.20      & 4.23      & 2.63     \\\\\n",
       "\t 0.31      & Good      & J         & SI2       & 63.3      & 58        & 335       & 4.34      & 4.35      & 2.75     \\\\\n",
       "\t 0.24      & Very Good & J         & VVS2      & 62.8      & 57        & 336       & 3.94      & 3.96      & 2.48     \\\\\n",
       "\\end{tabular}\n"
      ],
      "text/markdown": [
       "\n",
       "carat | cut | color | clarity | depth | table | price | x | y | z | \n",
       "|---|---|---|---|---|---|\n",
       "| 0.23      | Ideal     | E         | SI2       | 61.5      | 55        | 326       | 3.95      | 3.98      | 2.43      | \n",
       "| 0.21      | Premium   | E         | SI1       | 59.8      | 61        | 326       | 3.89      | 3.84      | 2.31      | \n",
       "| 0.23      | Good      | E         | VS1       | 56.9      | 65        | 327       | 4.05      | 4.07      | 2.31      | \n",
       "| 0.29      | Premium   | I         | VS2       | 62.4      | 58        | 334       | 4.20      | 4.23      | 2.63      | \n",
       "| 0.31      | Good      | J         | SI2       | 63.3      | 58        | 335       | 4.34      | 4.35      | 2.75      | \n",
       "| 0.24      | Very Good | J         | VVS2      | 62.8      | 57        | 336       | 3.94      | 3.96      | 2.48      | \n",
       "\n",
       "\n"
      ],
      "text/plain": [
       "  carat cut       color clarity depth table price x    y    z   \n",
       "1 0.23  Ideal     E     SI2     61.5  55    326   3.95 3.98 2.43\n",
       "2 0.21  Premium   E     SI1     59.8  61    326   3.89 3.84 2.31\n",
       "3 0.23  Good      E     VS1     56.9  65    327   4.05 4.07 2.31\n",
       "4 0.29  Premium   I     VS2     62.4  58    334   4.20 4.23 2.63\n",
       "5 0.31  Good      J     SI2     63.3  58    335   4.34 4.35 2.75\n",
       "6 0.24  Very Good J     VVS2    62.8  57    336   3.94 3.96 2.48"
      ]
     },
     "metadata": {},
     "output_type": "display_data"
    }
   ],
   "source": [
    "library(ggplot2)\n",
    "data(diamonds)\n",
    "head(diamonds)"
   ]
  },
  {
   "cell_type": "code",
   "execution_count": 19,
   "metadata": {},
   "outputs": [
    {
     "name": "stderr",
     "output_type": "stream",
     "text": [
      "`stat_bin()` using `bins = 30`. Pick better value with `binwidth`.\n"
     ]
    },
    {
     "data": {},
     "metadata": {},
     "output_type": "display_data"
    },
    {
     "data": {
      "image/png": "[encoded data removed]",
      "text/plain": [
       "plot without title"
      ]
     },
     "metadata": {},
     "output_type": "display_data"
    }
   ],
   "source": [
    "# Histogram\n",
    "\n",
    "ggplot(data=diamonds) + geom_histogram(aes(x=carat))"
   ]
  },
  {
   "cell_type": "markdown",
   "metadata": {},
   "source": [
    "# Density Plot of the Carat Distribution"
   ]
  },
  {
   "cell_type": "code",
   "execution_count": 23,
   "metadata": {},
   "outputs": [
    {
     "data": {},
     "metadata": {},
     "output_type": "display_data"
    },
    {
     "data": {
      "image/png": "[encoded data removed]",
      "text/plain": [
       "plot without title"
      ]
     },
     "metadata": {},
     "output_type": "display_data"
    }
   ],
   "source": [
    "ggplot(data=diamonds)+ geom_density(aes(x=carat), fill =\"grey50\")"
   ]
  },
  {
   "cell_type": "code",
   "execution_count": 20,
   "metadata": {},
   "outputs": [
    {
     "data": {
      "image/png": "[encoded data removed]",
      "text/plain": [
       "plot without title"
      ]
     },
     "metadata": {},
     "output_type": "display_data"
    }
   ],
   "source": [
    "plot(price ~ carat, data=diamonds)"
   ]
  },
  {
   "cell_type": "code",
   "execution_count": null,
   "metadata": {},
   "outputs": [],
   "source": []
  }
 ],
 "metadata": {
  "kernelspec": {
   "display_name": "R",
   "language": "R",
   "name": "ir"
  },
  "language_info": {
   "codemirror_mode": "r",
   "file_extension": ".r",
   "mimetype": "text/x-r-source",
   "name": "R",
   "pygments_lexer": "r",
   "version": "3.5.1"
  }
 },
 "nbformat": 4,
 "nbformat_minor": 2
}
